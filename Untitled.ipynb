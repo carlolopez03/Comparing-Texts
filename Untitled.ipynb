{
 "cells": [
  {
   "cell_type": "code",
   "execution_count": 1,
   "id": "0ee37010-499b-458a-88a0-9a31dfb18127",
   "metadata": {},
   "outputs": [],
   "source": [
    "import pandas as pd\n",
    "import matplotlib.pyplot as plt\n",
    "import seaborn as sns\n",
    "import nltk\n",
    "import spacy\n",
    "from nltk.probability import FreqDist\n",
    "from wordcloud import WordCloud\n",
    "pd.set_option('display.max_colwidth',100)"
   ]
  },
  {
   "cell_type": "code",
   "execution_count": 2,
   "id": "94adb2be-ff48-48d5-88dc-5a4b3f23a6bb",
   "metadata": {},
   "outputs": [
    {
     "name": "stdout",
     "output_type": "stream",
     "text": [
      "<class 'pandas.core.frame.DataFrame'>\n",
      "RangeIndex: 6335 entries, 0 to 6334\n",
      "Data columns (total 4 columns):\n",
      " #   Column      Non-Null Count  Dtype \n",
      "---  ------      --------------  ----- \n",
      " 0   Unnamed: 0  6335 non-null   int64 \n",
      " 1   title       6335 non-null   object\n",
      " 2   text        6335 non-null   object\n",
      " 3   label       6335 non-null   object\n",
      "dtypes: int64(1), object(3)\n",
      "memory usage: 198.1+ KB\n"
     ]
    },
    {
     "data": {
      "text/html": [
       "<div>\n",
       "<style scoped>\n",
       "    .dataframe tbody tr th:only-of-type {\n",
       "        vertical-align: middle;\n",
       "    }\n",
       "\n",
       "    .dataframe tbody tr th {\n",
       "        vertical-align: top;\n",
       "    }\n",
       "\n",
       "    .dataframe thead th {\n",
       "        text-align: right;\n",
       "    }\n",
       "</style>\n",
       "<table border=\"1\" class=\"dataframe\">\n",
       "  <thead>\n",
       "    <tr style=\"text-align: right;\">\n",
       "      <th></th>\n",
       "      <th>Unnamed: 0</th>\n",
       "      <th>title</th>\n",
       "      <th>text</th>\n",
       "      <th>label</th>\n",
       "    </tr>\n",
       "  </thead>\n",
       "  <tbody>\n",
       "    <tr>\n",
       "      <th>0</th>\n",
       "      <td>0</td>\n",
       "      <td>A whirlwind day in D.C. showcases Trump’s unorthodox views and shifting tone</td>\n",
       "      <td>Donald Trump endorsed an unabashedly noninterventionist approach to world affairs Monday during ...</td>\n",
       "      <td>REAL</td>\n",
       "    </tr>\n",
       "    <tr>\n",
       "      <th>1</th>\n",
       "      <td>1</td>\n",
       "      <td>In Baltimore's call for federal police probe, a new search for answers (+video)</td>\n",
       "      <td>While some Justice Department investigations are adversarial, a new model of collaborative refor...</td>\n",
       "      <td>REAL</td>\n",
       "    </tr>\n",
       "    <tr>\n",
       "      <th>2</th>\n",
       "      <td>2</td>\n",
       "      <td>Trump Proudly Declares: Most Of The People I’ve Insulted Deserved It</td>\n",
       "      <td>Trump Proudly Declares: Most Of The People I’ve Insulted Deserved It By Andrew Bradford on Octob...</td>\n",
       "      <td>FAKE</td>\n",
       "    </tr>\n",
       "    <tr>\n",
       "      <th>3</th>\n",
       "      <td>3</td>\n",
       "      <td>Inside the Trump-Bush melodrama: Decades of tension and discomfort</td>\n",
       "      <td>Donald Trump spent a day in January 2014 hobnobbing with politicians at the Trump International ...</td>\n",
       "      <td>REAL</td>\n",
       "    </tr>\n",
       "    <tr>\n",
       "      <th>4</th>\n",
       "      <td>4</td>\n",
       "      <td>Shutdown clash to return in force by December</td>\n",
       "      <td>Notable names include Ray Washburne (Commerce), a Dallas-based investor, is reported to be under...</td>\n",
       "      <td>REAL</td>\n",
       "    </tr>\n",
       "  </tbody>\n",
       "</table>\n",
       "</div>"
      ],
      "text/plain": [
       "   Unnamed: 0  \\\n",
       "0           0   \n",
       "1           1   \n",
       "2           2   \n",
       "3           3   \n",
       "4           4   \n",
       "\n",
       "                                                                             title  \\\n",
       "0     A whirlwind day in D.C. showcases Trump’s unorthodox views and shifting tone   \n",
       "1  In Baltimore's call for federal police probe, a new search for answers (+video)   \n",
       "2             Trump Proudly Declares: Most Of The People I’ve Insulted Deserved It   \n",
       "3               Inside the Trump-Bush melodrama: Decades of tension and discomfort   \n",
       "4                                    Shutdown clash to return in force by December   \n",
       "\n",
       "                                                                                                  text  \\\n",
       "0  Donald Trump endorsed an unabashedly noninterventionist approach to world affairs Monday during ...   \n",
       "1  While some Justice Department investigations are adversarial, a new model of collaborative refor...   \n",
       "2  Trump Proudly Declares: Most Of The People I’ve Insulted Deserved It By Andrew Bradford on Octob...   \n",
       "3  Donald Trump spent a day in January 2014 hobnobbing with politicians at the Trump International ...   \n",
       "4  Notable names include Ray Washburne (Commerce), a Dallas-based investor, is reported to be under...   \n",
       "\n",
       "  label  \n",
       "0  REAL  \n",
       "1  REAL  \n",
       "2  FAKE  \n",
       "3  REAL  \n",
       "4  REAL  "
      ]
     },
     "execution_count": 2,
     "metadata": {},
     "output_type": "execute_result"
    }
   ],
   "source": [
    "df = pd.read_csv('Data/Fake_Real_News_Data.csv')\n",
    "df.info()\n",
    "df.head()"
   ]
  },
  {
   "cell_type": "code",
   "execution_count": 3,
   "id": "fa40422b-db30-4b07-957e-c78aabd8aa9f",
   "metadata": {},
   "outputs": [],
   "source": [
    "df = df.drop(columns='Unnamed: 0')"
   ]
  },
  {
   "cell_type": "code",
   "execution_count": 4,
   "id": "1b783f21-6468-4d9e-94f9-6e6305c990ae",
   "metadata": {},
   "outputs": [
    {
     "data": {
      "text/plain": [
       "29"
      ]
     },
     "execution_count": 4,
     "metadata": {},
     "output_type": "execute_result"
    }
   ],
   "source": [
    "df.duplicated().sum().sum()"
   ]
  },
  {
   "cell_type": "code",
   "execution_count": 5,
   "id": "40520412-6905-412b-b469-9e032f1141c4",
   "metadata": {},
   "outputs": [
    {
     "data": {
      "text/plain": [
       "0"
      ]
     },
     "execution_count": 5,
     "metadata": {},
     "output_type": "execute_result"
    }
   ],
   "source": [
    "df = df.drop_duplicates()\n",
    "df.duplicated().sum().sum()"
   ]
  },
  {
   "cell_type": "code",
   "execution_count": 6,
   "id": "d3a8cb89-c0ed-4969-9cb0-51918e676c41",
   "metadata": {},
   "outputs": [
    {
     "data": {
      "text/html": [
       "<div>\n",
       "<style scoped>\n",
       "    .dataframe tbody tr th:only-of-type {\n",
       "        vertical-align: middle;\n",
       "    }\n",
       "\n",
       "    .dataframe tbody tr th {\n",
       "        vertical-align: top;\n",
       "    }\n",
       "\n",
       "    .dataframe thead th {\n",
       "        text-align: right;\n",
       "    }\n",
       "</style>\n",
       "<table border=\"1\" class=\"dataframe\">\n",
       "  <thead>\n",
       "    <tr style=\"text-align: right;\">\n",
       "      <th></th>\n",
       "      <th>title</th>\n",
       "      <th>text</th>\n",
       "      <th>label</th>\n",
       "      <th>lower_text</th>\n",
       "    </tr>\n",
       "  </thead>\n",
       "  <tbody>\n",
       "    <tr>\n",
       "      <th>0</th>\n",
       "      <td>A whirlwind day in D.C. showcases Trump’s unorthodox views and shifting tone</td>\n",
       "      <td>Donald Trump endorsed an unabashedly noninterventionist approach to world affairs Monday during ...</td>\n",
       "      <td>REAL</td>\n",
       "      <td>donald trump endorsed an unabashedly noninterventionist approach to world affairs monday during ...</td>\n",
       "    </tr>\n",
       "    <tr>\n",
       "      <th>1</th>\n",
       "      <td>In Baltimore's call for federal police probe, a new search for answers (+video)</td>\n",
       "      <td>While some Justice Department investigations are adversarial, a new model of collaborative refor...</td>\n",
       "      <td>REAL</td>\n",
       "      <td>while some justice department investigations are adversarial, a new model of collaborative refor...</td>\n",
       "    </tr>\n",
       "    <tr>\n",
       "      <th>2</th>\n",
       "      <td>Trump Proudly Declares: Most Of The People I’ve Insulted Deserved It</td>\n",
       "      <td>Trump Proudly Declares: Most Of The People I’ve Insulted Deserved It By Andrew Bradford on Octob...</td>\n",
       "      <td>FAKE</td>\n",
       "      <td>trump proudly declares: most of the people i’ve insulted deserved it by andrew bradford on octob...</td>\n",
       "    </tr>\n",
       "    <tr>\n",
       "      <th>3</th>\n",
       "      <td>Inside the Trump-Bush melodrama: Decades of tension and discomfort</td>\n",
       "      <td>Donald Trump spent a day in January 2014 hobnobbing with politicians at the Trump International ...</td>\n",
       "      <td>REAL</td>\n",
       "      <td>donald trump spent a day in january 2014 hobnobbing with politicians at the trump international ...</td>\n",
       "    </tr>\n",
       "    <tr>\n",
       "      <th>4</th>\n",
       "      <td>Shutdown clash to return in force by December</td>\n",
       "      <td>Notable names include Ray Washburne (Commerce), a Dallas-based investor, is reported to be under...</td>\n",
       "      <td>REAL</td>\n",
       "      <td>notable names include ray washburne (commerce), a dallas-based investor, is reported to be under...</td>\n",
       "    </tr>\n",
       "  </tbody>\n",
       "</table>\n",
       "</div>"
      ],
      "text/plain": [
       "                                                                             title  \\\n",
       "0     A whirlwind day in D.C. showcases Trump’s unorthodox views and shifting tone   \n",
       "1  In Baltimore's call for federal police probe, a new search for answers (+video)   \n",
       "2             Trump Proudly Declares: Most Of The People I’ve Insulted Deserved It   \n",
       "3               Inside the Trump-Bush melodrama: Decades of tension and discomfort   \n",
       "4                                    Shutdown clash to return in force by December   \n",
       "\n",
       "                                                                                                  text  \\\n",
       "0  Donald Trump endorsed an unabashedly noninterventionist approach to world affairs Monday during ...   \n",
       "1  While some Justice Department investigations are adversarial, a new model of collaborative refor...   \n",
       "2  Trump Proudly Declares: Most Of The People I’ve Insulted Deserved It By Andrew Bradford on Octob...   \n",
       "3  Donald Trump spent a day in January 2014 hobnobbing with politicians at the Trump International ...   \n",
       "4  Notable names include Ray Washburne (Commerce), a Dallas-based investor, is reported to be under...   \n",
       "\n",
       "  label  \\\n",
       "0  REAL   \n",
       "1  REAL   \n",
       "2  FAKE   \n",
       "3  REAL   \n",
       "4  REAL   \n",
       "\n",
       "                                                                                            lower_text  \n",
       "0  donald trump endorsed an unabashedly noninterventionist approach to world affairs monday during ...  \n",
       "1  while some justice department investigations are adversarial, a new model of collaborative refor...  \n",
       "2  trump proudly declares: most of the people i’ve insulted deserved it by andrew bradford on octob...  \n",
       "3  donald trump spent a day in january 2014 hobnobbing with politicians at the trump international ...  \n",
       "4  notable names include ray washburne (commerce), a dallas-based investor, is reported to be under...  "
      ]
     },
     "execution_count": 6,
     "metadata": {},
     "output_type": "execute_result"
    }
   ],
   "source": [
    "df['lower_text'] = df['text'].str.lower()\n",
    "df.head()"
   ]
  },
  {
   "cell_type": "code",
   "execution_count": 7,
   "id": "37639cc9-32ad-4758-bf7a-92b566e2b6cd",
   "metadata": {},
   "outputs": [
    {
     "name": "stderr",
     "output_type": "stream",
     "text": [
      "[nltk_data] Downloading package punkt to\n",
      "[nltk_data]     C:\\Users\\carlo\\AppData\\Roaming\\nltk_data...\n",
      "[nltk_data]   Package punkt is already up-to-date!\n"
     ]
    },
    {
     "data": {
      "text/html": [
       "<div>\n",
       "<style scoped>\n",
       "    .dataframe tbody tr th:only-of-type {\n",
       "        vertical-align: middle;\n",
       "    }\n",
       "\n",
       "    .dataframe tbody tr th {\n",
       "        vertical-align: top;\n",
       "    }\n",
       "\n",
       "    .dataframe thead th {\n",
       "        text-align: right;\n",
       "    }\n",
       "</style>\n",
       "<table border=\"1\" class=\"dataframe\">\n",
       "  <thead>\n",
       "    <tr style=\"text-align: right;\">\n",
       "      <th></th>\n",
       "      <th>title</th>\n",
       "      <th>text</th>\n",
       "      <th>label</th>\n",
       "      <th>lower_text</th>\n",
       "      <th>tokens</th>\n",
       "    </tr>\n",
       "  </thead>\n",
       "  <tbody>\n",
       "    <tr>\n",
       "      <th>0</th>\n",
       "      <td>A whirlwind day in D.C. showcases Trump’s unorthodox views and shifting tone</td>\n",
       "      <td>Donald Trump endorsed an unabashedly noninterventionist approach to world affairs Monday during ...</td>\n",
       "      <td>REAL</td>\n",
       "      <td>donald trump endorsed an unabashedly noninterventionist approach to world affairs monday during ...</td>\n",
       "      <td>[donald, trump, endorsed, an, unabashedly, noninterventionist, approach, to, world, affairs, mon...</td>\n",
       "    </tr>\n",
       "    <tr>\n",
       "      <th>1</th>\n",
       "      <td>In Baltimore's call for federal police probe, a new search for answers (+video)</td>\n",
       "      <td>While some Justice Department investigations are adversarial, a new model of collaborative refor...</td>\n",
       "      <td>REAL</td>\n",
       "      <td>while some justice department investigations are adversarial, a new model of collaborative refor...</td>\n",
       "      <td>[while, some, justice, department, investigations, are, adversarial, ,, a, new, model, of, colla...</td>\n",
       "    </tr>\n",
       "    <tr>\n",
       "      <th>2</th>\n",
       "      <td>Trump Proudly Declares: Most Of The People I’ve Insulted Deserved It</td>\n",
       "      <td>Trump Proudly Declares: Most Of The People I’ve Insulted Deserved It By Andrew Bradford on Octob...</td>\n",
       "      <td>FAKE</td>\n",
       "      <td>trump proudly declares: most of the people i’ve insulted deserved it by andrew bradford on octob...</td>\n",
       "      <td>[trump, proudly, declares, :, most, of, the, people, i, ’, ve, insulted, deserved, it, by, andre...</td>\n",
       "    </tr>\n",
       "    <tr>\n",
       "      <th>3</th>\n",
       "      <td>Inside the Trump-Bush melodrama: Decades of tension and discomfort</td>\n",
       "      <td>Donald Trump spent a day in January 2014 hobnobbing with politicians at the Trump International ...</td>\n",
       "      <td>REAL</td>\n",
       "      <td>donald trump spent a day in january 2014 hobnobbing with politicians at the trump international ...</td>\n",
       "      <td>[donald, trump, spent, a, day, in, january, 2014, hobnobbing, with, politicians, at, the, trump,...</td>\n",
       "    </tr>\n",
       "    <tr>\n",
       "      <th>4</th>\n",
       "      <td>Shutdown clash to return in force by December</td>\n",
       "      <td>Notable names include Ray Washburne (Commerce), a Dallas-based investor, is reported to be under...</td>\n",
       "      <td>REAL</td>\n",
       "      <td>notable names include ray washburne (commerce), a dallas-based investor, is reported to be under...</td>\n",
       "      <td>[notable, names, include, ray, washburne, (, commerce, ), ,, a, dallas-based, investor, ,, is, r...</td>\n",
       "    </tr>\n",
       "  </tbody>\n",
       "</table>\n",
       "</div>"
      ],
      "text/plain": [
       "                                                                             title  \\\n",
       "0     A whirlwind day in D.C. showcases Trump’s unorthodox views and shifting tone   \n",
       "1  In Baltimore's call for federal police probe, a new search for answers (+video)   \n",
       "2             Trump Proudly Declares: Most Of The People I’ve Insulted Deserved It   \n",
       "3               Inside the Trump-Bush melodrama: Decades of tension and discomfort   \n",
       "4                                    Shutdown clash to return in force by December   \n",
       "\n",
       "                                                                                                  text  \\\n",
       "0  Donald Trump endorsed an unabashedly noninterventionist approach to world affairs Monday during ...   \n",
       "1  While some Justice Department investigations are adversarial, a new model of collaborative refor...   \n",
       "2  Trump Proudly Declares: Most Of The People I’ve Insulted Deserved It By Andrew Bradford on Octob...   \n",
       "3  Donald Trump spent a day in January 2014 hobnobbing with politicians at the Trump International ...   \n",
       "4  Notable names include Ray Washburne (Commerce), a Dallas-based investor, is reported to be under...   \n",
       "\n",
       "  label  \\\n",
       "0  REAL   \n",
       "1  REAL   \n",
       "2  FAKE   \n",
       "3  REAL   \n",
       "4  REAL   \n",
       "\n",
       "                                                                                            lower_text  \\\n",
       "0  donald trump endorsed an unabashedly noninterventionist approach to world affairs monday during ...   \n",
       "1  while some justice department investigations are adversarial, a new model of collaborative refor...   \n",
       "2  trump proudly declares: most of the people i’ve insulted deserved it by andrew bradford on octob...   \n",
       "3  donald trump spent a day in january 2014 hobnobbing with politicians at the trump international ...   \n",
       "4  notable names include ray washburne (commerce), a dallas-based investor, is reported to be under...   \n",
       "\n",
       "                                                                                                tokens  \n",
       "0  [donald, trump, endorsed, an, unabashedly, noninterventionist, approach, to, world, affairs, mon...  \n",
       "1  [while, some, justice, department, investigations, are, adversarial, ,, a, new, model, of, colla...  \n",
       "2  [trump, proudly, declares, :, most, of, the, people, i, ’, ve, insulted, deserved, it, by, andre...  \n",
       "3  [donald, trump, spent, a, day, in, january, 2014, hobnobbing, with, politicians, at, the, trump,...  \n",
       "4  [notable, names, include, ray, washburne, (, commerce, ), ,, a, dallas-based, investor, ,, is, r...  "
      ]
     },
     "execution_count": 7,
     "metadata": {},
     "output_type": "execute_result"
    }
   ],
   "source": [
    "nltk.download('punkt')\n",
    "\n",
    "df['tokens'] = df['lower_text'].apply(nltk.word_tokenize)\n",
    "df.head()"
   ]
  },
  {
   "cell_type": "code",
   "execution_count": 8,
   "id": "337e7bbc-8b6c-4022-bb2a-b8d31c5f64d7",
   "metadata": {},
   "outputs": [
    {
     "data": {
      "text/plain": [
       "['tok2vec', 'tagger', 'attribute_ruler', 'lemmatizer']"
      ]
     },
     "execution_count": 8,
     "metadata": {},
     "output_type": "execute_result"
    }
   ],
   "source": [
    "nlp_model = spacy.load('en_core_web_sm', disable=['parser', 'ner'])\n",
    "nlp_model.pipe_names"
   ]
  },
  {
   "cell_type": "code",
   "execution_count": 9,
   "id": "7c890981-5f07-462c-a6d9-0d23555da3a2",
   "metadata": {},
   "outputs": [
    {
     "data": {
      "text/plain": [
       "spacy.tokens.doc.Doc"
      ]
     },
     "execution_count": 9,
     "metadata": {},
     "output_type": "execute_result"
    }
   ],
   "source": [
    "doc = nlp_model('text')\n",
    "type(doc)"
   ]
  },
  {
   "cell_type": "code",
   "execution_count": null,
   "id": "1550d69c-fbe6-4f5d-9a6c-6a1f7f374fd8",
   "metadata": {},
   "outputs": [],
   "source": [
    "def spacy_process(lower_text):\n",
    "        \"\"\"Lemmatize tokens, lower case, remove punctuation, spaces, and stop words\"\"\"\n",
    "        doc = nlp_model(lower_text)\n",
    "        processed_doc = [token.lemma_\n",
    "                         for token in doc if not token.is_punct and not token.is_stop]\n",
    "        return processed_doc\n",
    "\n",
    "## process the tweets using the spacy function\n",
    "df['lemmas'] = df['lower_text'].apply(spacy_process)\n",
    "df.head()"
   ]
  },
  {
   "cell_type": "code",
   "execution_count": null,
   "id": "90b8eaf4-e03e-46ec-be8a-64e72c62db38",
   "metadata": {},
   "outputs": [],
   "source": [
    "df['lemmas_joined'] = df['lemmas'].map(lambda x: \" \".join(x))\n",
    "df.head()"
   ]
  },
  {
   "cell_type": "code",
   "execution_count": null,
   "id": "9a5d30ec-9c00-4139-b6ee-4e1876a844de",
   "metadata": {},
   "outputs": [],
   "source": [
    "type(df['lemmas'][0])"
   ]
  },
  {
   "cell_type": "code",
   "execution_count": null,
   "id": "9d745066-6e34-42b8-b58a-6c5f004c49a8",
   "metadata": {},
   "outputs": [],
   "source": [
    "df['length'] = df['tokens'].map(len)\n",
    "df.head(2)"
   ]
  },
  {
   "cell_type": "code",
   "execution_count": null,
   "id": "93352f05-8299-4b11-bded-6b26e135e427",
   "metadata": {},
   "outputs": [],
   "source": [
    "df['label'].value_counts(normalize=True)"
   ]
  },
  {
   "cell_type": "code",
   "execution_count": null,
   "id": "9ee3f988-4f57-43b5-8075-d3e43923fd4a",
   "metadata": {},
   "outputs": [],
   "source": [
    "real = df.loc[df['label'] == 'REAL']\n",
    "fake = df.loc[df['label'] == 'FAKE']\n",
    "print('real news')\n",
    "display(real.head())\n",
    "print('fake news')\n",
    "display(fake.head())"
   ]
  },
  {
   "cell_type": "code",
   "execution_count": null,
   "id": "7d8917f1-f4c9-48f6-bfef-6a216382fff3",
   "metadata": {},
   "outputs": [],
   "source": [
    "ax = sns.barplot(data=df, x='label', y='length');\n",
    "ax.set_title('Comparing Lengths of Texts')\n",
    "\n",
    "plt.show()\n",
    "\n",
    "real_len = real['length'].median()\n",
    "fake_len = fake['length'].median()\n",
    "print(f'The median character length for real news is {real_len} and {fake_len} for fake news.')"
   ]
  },
  {
   "cell_type": "code",
   "execution_count": null,
   "id": "9ac571ed-f267-4882-9258-6542a21550b0",
   "metadata": {},
   "outputs": [],
   "source": [
    "real_words = real['lemmas'].explode().to_list()\n",
    "real_freq_dist = FreqDist(real_words)\n",
    "fake_words = fake['lemmas'].explode().to_list()\n",
    "fake_freq_dist = FreqDist(fake_words)\n",
    "\n",
    "## Plot the distribution\n",
    "real_freq_dist.plot(20, title='Real News Lemmatized Text Frequency Distribution')\n",
    "\n",
    "fake_freq_dist.plot(20, title='Fake News Lemmatized Text Frequency Distribution');"
   ]
  },
  {
   "cell_type": "code",
   "execution_count": null,
   "id": "4cab7790-d967-49b7-ac19-ac8792d11dad",
   "metadata": {},
   "outputs": [],
   "source": [
    "def plot_wordclouds(high_cloud, low_cloud, title='Comparing Word Usage'):\n",
    "    \"\"\"Plots the wordlcouds for our two groups\"\"\"\n",
    "    ## Plot the Images\n",
    "    fig, axes = plt.subplots(ncols=2, figsize=(10, 5))\n",
    "    axes[0].imshow(high_cloud)\n",
    "    axes[0].set_title('High Ratings')\n",
    "    axes[0].axis('off')\n",
    "    \n",
    "    axes[1].imshow(low_cloud)\n",
    "    axes[1].set_title('Low Ratings')\n",
    "    axes[1].axis('off')\n",
    "    fig.tight_layout()\n",
    "    \n",
    "    fig.suptitle(title,y=1.0, fontsize='xx-large');\n",
    "    return fig"
   ]
  },
  {
   "cell_type": "code",
   "execution_count": null,
   "id": "6a41a392-77d8-429e-959c-04af73a367c9",
   "metadata": {},
   "outputs": [],
   "source": [
    "real_lemmas = ' '.join(real_words)\n",
    "fake_lemmas = ' '.join(fake_words)"
   ]
  },
  {
   "cell_type": "code",
   "execution_count": null,
   "id": "66889b64-2ca5-4949-bf41-2a44692dd227",
   "metadata": {},
   "outputs": [],
   "source": [
    "wordcloud_kws = dict(min_word_length=2,width=800, height=600, random_state=42)\n",
    "real_cloud = WordCloud(**wordcloud_kws, colormap='Greens').generate(real_lemmas)\n",
    "fake_cloud = WordCloud(**wordcloud_kws, colormap='Reds').generate(fake_lemmas)\n",
    "\n",
    "## Plot the Images\n",
    "fig = plot_wordclouds(real_cloud, fake_cloud, title='Comparing Lemmas')"
   ]
  }
 ],
 "metadata": {
  "kernelspec": {
   "display_name": "Python (dojo-env)",
   "language": "python",
   "name": "dojo-env"
  },
  "language_info": {
   "codemirror_mode": {
    "name": "ipython",
    "version": 3
   },
   "file_extension": ".py",
   "mimetype": "text/x-python",
   "name": "python",
   "nbconvert_exporter": "python",
   "pygments_lexer": "ipython3",
   "version": "3.10.10"
  }
 },
 "nbformat": 4,
 "nbformat_minor": 5
}
